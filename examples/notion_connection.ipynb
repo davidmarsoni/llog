{
 "cells": [
  {
   "cell_type": "markdown",
   "id": "1ac96b85",
   "metadata": {},
   "source": [
    "# Notion Connection with LlamaIndex\n",
    "\n",
    "This notebook demonstrates how to connect to Notion using LlamaIndex, retrieve documents, and query them using OpenAI's LLM.\n",
    "\n",
    "## Prerequisites\n",
    "- A Notion integration token (create one at https://www.notion.so/my-integrations)\n",
    "- An OpenAI API key\n",
    "- The Notion page must grant access to your integration"
   ]
  },
  {
   "cell_type": "markdown",
   "id": "4355b467",
   "metadata": {},
   "source": [
    "## Setup and Installation\n",
    "\n",
    "First, let's install the required packages. Run the cell below to install all dependencies needed for this notebook."
   ]
  },
  {
   "cell_type": "code",
   "execution_count": null,
   "id": "f7f07476",
   "metadata": {},
   "outputs": [],
   "source": [
    "# Install required packages\n",
    "!pip install llama-index llama-index-readers-notion llama-index-llms-openai python-dotenv openai\n",
    "\n",
    "# Verify installations\n",
    "import importlib\n",
    "\n",
    "def check_package(package_name):\n",
    "    try:\n",
    "        importlib.import_module(package_name)\n",
    "        return True\n",
    "    except ImportError:\n",
    "        return False\n",
    "\n",
    "packages = {\n",
    "    \"llama_index\": \"llama-index core\",\n",
    "    \"llama_index.readers.notion\": \"Notion reader\",\n",
    "    \"llama_index.llms.openai\": \"OpenAI integration\",\n",
    "    \"openai\": \"OpenAI API\"\n",
    "}\n",
    "\n",
    "all_installed = True\n",
    "for package, display_name in packages.items():\n",
    "    installed = check_package(package)\n",
    "    print(f\"{display_name}: {'✅ Installed' if installed else '❌ Not installed'}\")\n",
    "    all_installed = all_installed and installed\n",
    "\n",
    "if all_installed:\n",
    "    print(\"\\n✅ All required packages are installed!\")\n",
    "else:\n",
    "    print(\"\\n⚠️ Some packages are missing. Run the installation command again.\")"
   ]
  },
  {
   "cell_type": "markdown",
   "id": "b28738ba",
   "metadata": {},
   "source": [
    "## Environment Setup\n",
    "\n",
    "Load environment variables from the `.env` file. <br>\n",
    "N.b. it will look through the entire project for a valid `.env` file."
   ]
  },
  {
   "cell_type": "code",
   "execution_count": null,
   "id": "a4eabfa8",
   "metadata": {},
   "outputs": [],
   "source": [
    "import os\n",
    "from dotenv import load_dotenv\n",
    "\n",
    "# Load environment variables from .env file\n",
    "load_dotenv()\n",
    "\n",
    "# Get API keys from environment variables\n",
    "NOTION_INTEGRATION_TOKEN = os.getenv(\"NOTION_INTEGRATION_TOKEN\")\n",
    "OPENAI_API_KEY = os.getenv(\"OPENAI_API_KEY\")\n",
    "\n",
    "# Set Notion page IDs (comma-separated string if multiple one)\n",
    "page_ids_str = \"9917363395904835a604ca7a6a358579\" # replace with your Notion page ID(s)\n",
    "# Convert comma-separated string to list\n",
    "NOTION_PAGE_IDS = page_ids_str.split(\",\")\n",
    "\n",
    "# Set environment variables for compatibility with libraries that expect them\n",
    "os.environ[\"NOTION_INTEGRATION_TOKEN\"] = NOTION_INTEGRATION_TOKEN or \"\"\n",
    "os.environ[\"OPENAI_API_KEY\"] = OPENAI_API_KEY or \"\"\n",
    "\n",
    "# Verify API keys are set\n",
    "if not NOTION_INTEGRATION_TOKEN:\n",
    "    print(\"⚠️ Warning: NOTION_INTEGRATION_TOKEN is not set in .env file\")\n",
    "if not OPENAI_API_KEY:\n",
    "    print(\"⚠️ Warning: OPENAI_API_KEY is not set in .env file\")\n",
    "else:\n",
    "    print(\"✅ API keys are set\")\n",
    "    print(f\"✅ Using Notion page IDs: {NOTION_PAGE_IDS}\")"
   ]
  },
  {
   "cell_type": "markdown",
   "id": "29eb16aa",
   "metadata": {},
   "source": [
    "## Import Required Libraries\n",
    "\n",
    "First, we'll import the necessary libraries and configure logging."
   ]
  },
  {
   "cell_type": "code",
   "execution_count": null,
   "id": "b90b8798",
   "metadata": {},
   "outputs": [],
   "source": [
    "import logging\n",
    "import sys\n",
    "import openai\n",
    "\n",
    "from IPython.display import Markdown, display\n",
    "\n",
    "# Configure basic logging\n",
    "logging.basicConfig(stream=sys.stdout, level=logging.INFO)\n",
    "logging.getLogger().addHandler(logging.StreamHandler(stream=sys.stdout))"
   ]
  },
  {
   "cell_type": "markdown",
   "id": "c3dfcf64",
   "metadata": {},
   "source": [
    "## Import LlamaIndex Components\n",
    "\n",
    "We need to import the necessary components from LlamaIndex, including the NotionPageReader."
   ]
  },
  {
   "cell_type": "code",
   "execution_count": null,
   "id": "ffd83b47",
   "metadata": {},
   "outputs": [],
   "source": [
    "from llama_index.core import SummaryIndex, ServiceContext, Settings\n",
    "from llama_index.readers.notion import NotionPageReader\n",
    "from llama_index.llms.openai import OpenAI\n",
    "\n",
    "# Verify that the imports worked\n",
    "print(\"✅ LlamaIndex components imported successfully\")"
   ]
  },
  {
   "cell_type": "markdown",
   "id": "4fcacba2",
   "metadata": {},
   "source": [
    "## Verify API Keys\n",
    "\n",
    "Before proceeding, let's verify that our API keys are properly set."
   ]
  },
  {
   "cell_type": "code",
   "execution_count": null,
   "id": "a704d339",
   "metadata": {},
   "outputs": [],
   "source": [
    "# Set OpenAI API key\n",
    "openai.api_key = OPENAI_API_KEY\n",
    "\n",
    "if not NOTION_INTEGRATION_TOKEN:\n",
    "    raise ValueError(\"No Notion integration token found. Please set NOTION_INTEGRATION_TOKEN above.\")\n",
    "    \n",
    "if not OPENAI_API_KEY:\n",
    "    raise ValueError(\"No OpenAI API key found. Please set OPENAI_API_KEY above.\")\n",
    "\n",
    "print(\"✅ API keys verified\")"
   ]
  },
  {
   "cell_type": "markdown",
   "id": "6fdde689",
   "metadata": {},
   "source": [
    "## Notion Page Connection\n",
    "\n",
    "Now we'll connect to Notion and retrieve documents from specified pages.\n",
    "\n",
    "**Note**: You need to provide the ID of a Notion page that has granted access to your integration. The ID is the last part of the Notion URL, typically a 32-character string."
   ]
  },
  {
   "cell_type": "code",
   "execution_count": null,
   "id": "4d34b117",
   "metadata": {},
   "outputs": [],
   "source": [
    "# Be aware that this cell block can take up to ~1-2 minutes to run\n",
    "\n",
    "# We already have our Notion page IDs from environment variables\n",
    "print(f\"Attempting to load {len(NOTION_PAGE_IDS)} pages from Notion...\")\n",
    "\n",
    "try:\n",
    "    # Load documents from Notion using the integration token from .env\n",
    "    documents = NotionPageReader(integration_token=NOTION_INTEGRATION_TOKEN).load_data(\n",
    "        page_ids=NOTION_PAGE_IDS\n",
    "    )\n",
    "    print(f\"✅ Successfully loaded {len(documents)} documents from Notion\")\n",
    "    \n",
    "    # Display brief information about the documents\n",
    "    for i, doc in enumerate(documents):\n",
    "        print(f\"Document {i+1} - Title: {doc.metadata.get('title', 'Untitled')}\")\n",
    "        print(f\"  - Length: {len(doc.text)} characters\")\n",
    "except Exception as e:\n",
    "    print(f\"❌ Error loading Notion pages: {e}\")\n",
    "    print(\"Please check your integration token and ensure your integration has access to the pages.\")"
   ]
  },
  {
   "cell_type": "markdown",
   "id": "245112e5",
   "metadata": {},
   "source": [
    "> Note : The notion API is really slow, so try to use a small page for testing. (a normal page can take up to 2 minutes to load)"
   ]
  },
  {
   "cell_type": "markdown",
   "id": "9ea59e81",
   "metadata": {},
   "source": [
    "## Configure LLM and Create Index\n",
    "\n",
    "Next, we'll set up the LLM and create an index from our Notion documents."
   ]
  },
  {
   "cell_type": "code",
   "execution_count": null,
   "id": "edf95875",
   "metadata": {},
   "outputs": [],
   "source": [
    "# Configure OpenAI model with API key from environment\n",
    "llm = OpenAI(model_name=\"gpt-4o-mini\", api_key=OPENAI_API_KEY)\n",
    "Settings.llm = llm\n",
    "\n",
    "# Create an index from the documents\n",
    "try:\n",
    "    index = SummaryIndex.from_documents(documents)\n",
    "    print(\"✅ Index created successfully\")\n",
    "except Exception as e:\n",
    "    print(f\"❌ Error creating index: {e}\")"
   ]
  },
  {
   "cell_type": "markdown",
   "id": "dc976fb4",
   "metadata": {},
   "source": [
    "## Query the Index\n",
    "\n",
    "Now we can query our indexed documents to extract information."
   ]
  },
  {
   "cell_type": "code",
   "execution_count": null,
   "id": "554c628f",
   "metadata": {},
   "outputs": [],
   "source": [
    "# Set logging to DEBUG for detailed outputs\n",
    "logging.getLogger().setLevel(logging.DEBUG)\n",
    "\n",
    "# Create a query engine from the index\n",
    "query_engine = index.as_query_engine()\n",
    "\n",
    "# Define your query\n",
    "query_text = \"What is BPMN?\"  # Replace with your own query\n",
    "\n",
    "print(f\"Querying: '{query_text}'\")\n",
    "response = query_engine.query(query_text)\n",
    "\n",
    "print(\"\\n\" + \"-\"*50 + \"\\n\")\n",
    "print(f\"Answer: {response}\")"
   ]
  },
  {
   "cell_type": "markdown",
   "id": "b3b1f753",
   "metadata": {},
   "source": [
    "## Try Another Query\n",
    "\n",
    "Feel free to experiment with different queries on your Notion content."
   ]
  },
  {
   "cell_type": "code",
   "execution_count": null,
   "id": "36722a98",
   "metadata": {},
   "outputs": [],
   "source": [
    "# Try another query\n",
    "query_text = \"Summarize the main points from this document\"  # Replace with your own query\n",
    "\n",
    "print(f\"Querying: '{query_text}'\")\n",
    "response = query_engine.query(query_text)\n",
    "\n",
    "# Display the response in a nicer format\n",
    "print(\"\\n\" + \"-\"*50)\n",
    "display(Markdown(f\"**Answer:**\\n\\n{response}\"))"
   ]
  },
  {
   "cell_type": "markdown",
   "id": "3fb71205",
   "metadata": {},
   "source": [
    "## Conclusion\n",
    "\n",
    "In this notebook, we demonstrated how to:\n",
    "1. Connect to Notion using the LlamaIndex NotionPageReader\n",
    "2. Retrieve documents from specific Notion pages\n",
    "3. Create an index from those documents\n",
    "4. Query the index using OpenAI's language models\n",
    "\n",
    "This approach allows you to use your Notion content as a knowledge base for AI-powered queries and summaries.\n",
    "\n",
    "But we also discovered that the Notion API is quite slow, that create quite a delay for a direct communication with the LLM. In order to speed up the process, we can setup a local cache to store the documents get from Notion. This way, we can avoid the delay of fetching the documents from Notion every time we want to query them. To see how to do that you can open the [Simple caching system](simple_caching_system.ipynb) notebook."
   ]
  },
  {
   "cell_type": "markdown",
   "id": "3c8fa7e3",
   "metadata": {},
   "source": [
    "## Troubleshooting Tips\n",
    "\n",
    "If you encounter issues:\n",
    "\n",
    "1. **Integration Access**: Make sure your Notion integration has been granted access to the pages you're trying to query. For example if you have a workspace with multiple pages, you need to add the integration to each page you want to access. To have more information on how to do that, you can check the [Notion - Create your first integration](https://developers.notion.com/docs/create-a-notion-integration).\n",
    "2. **API Keys**: Verify that your API keys are correct and have the necessary permissions.\n",
    "3. **Page IDs**: Ensure you're using the correct Notion page IDs.\n",
    "4. **Dependencies**: Make sure you have installed all required packages:\n",
    "   ```\n",
    "   pip install llama-index llama-index-readers-notion python-dotenv openai\n",
    "   ```"
   ]
  }
 ],
 "metadata": {
  "kernelspec": {
   "display_name": "venv",
   "language": "python",
   "name": "python3"
  },
  "language_info": {
   "codemirror_mode": {
    "name": "ipython",
    "version": 3
   },
   "file_extension": ".py",
   "mimetype": "text/x-python",
   "name": "python",
   "nbconvert_exporter": "python",
   "pygments_lexer": "ipython3",
   "version": "3.12.0"
  }
 },
 "nbformat": 4,
 "nbformat_minor": 5
}
