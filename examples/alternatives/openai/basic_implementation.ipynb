{
 "cells": [
  {
   "cell_type": "markdown",
   "id": "e8b56c76",
   "metadata": {},
   "source": [
    "# Basic implementation of OpenAI agent\n",
    "\n",
    "This notebook demonstrates how to create a simple OpenAI agent with web search capabilities."
   ]
  },
  {
   "cell_type": "code",
   "execution_count": null,
   "id": "386a382e",
   "metadata": {},
   "outputs": [],
   "source": [
    "# Install required packages\n",
    "!pip install openai python-dotenv\n",
    "\n",
    "# Verify installations\n",
    "import importlib\n",
    "\n",
    "def check_package(package_name):\n",
    "    try:\n",
    "        importlib.import_module(package_name)\n",
    "        return True\n",
    "    except ImportError:\n",
    "        return False\n",
    "\n",
    "packages = {\n",
    "    \"openai\": \"OpenAI API\"\n",
    "}\n",
    "\n",
    "all_installed = True\n",
    "for package, display_name in packages.items():\n",
    "    installed = check_package(package)\n",
    "    print(f\"{display_name}: {'✅ Installed' if installed else '❌ Not installed'}\")\n",
    "    all_installed = all_installed and installed\n",
    "\n",
    "if all_installed:\n",
    "    print(\"\\n✅ All required packages are installed!\")\n",
    "else:\n",
    "    print(\"\\n⚠️ Some packages are missing. Run the installation command again.\")"
   ]
  },
  {
   "cell_type": "markdown",
   "id": "3db2b4a2",
   "metadata": {},
   "source": [
    "## Environment Setup\n",
    "\n",
    "Load environment variables from the `.env` file."
   ]
  },
  {
   "cell_type": "code",
   "execution_count": null,
   "id": "22e37553",
   "metadata": {},
   "outputs": [],
   "source": [
    "import os\n",
    "from dotenv import load_dotenv\n",
    "\n",
    "# Load environment variables from .env file\n",
    "load_dotenv()\n",
    "\n",
    "# Get API key from environment variables\n",
    "OPENAI_API_KEY = os.getenv(\"OPENAI_API_KEY\")\n",
    "\n",
    "# Set environment variables for compatibility with libraries that expect them\n",
    "os.environ[\"OPENAI_API_KEY\"] = OPENAI_API_KEY or \"\"\n",
    "\n",
    "# Verify API key is set\n",
    "if not OPENAI_API_KEY:\n",
    "    print(\"⚠️ Warning: OPENAI_API_KEY is not set in .env file\")\n",
    "else:\n",
    "    print(\"✅ API key is set\")"
   ]
  },
  {
   "cell_type": "markdown",
   "id": "860d277f",
   "metadata": {},
   "source": [
    "## Import Required Libraries\n",
    "\n",
    "First, we'll import the necessary libraries."
   ]
  },
  {
   "cell_type": "code",
   "execution_count": null,
   "id": "ebbe90b7",
   "metadata": {},
   "outputs": [],
   "source": [
    "import openai\n",
    "from IPython.display import Markdown, display\n",
    "\n",
    "# Configure OpenAI API key\n",
    "openai.api_key = OPENAI_API_KEY\n",
    "\n",
    "if not OPENAI_API_KEY:\n",
    "    raise ValueError(\"No OpenAI API key found. Please set OPENAI_API_KEY above.\")\n",
    "\n",
    "print(\"✅ API key verified\")"
   ]
  },
  {
   "cell_type": "markdown",
   "id": "da8c8000",
   "metadata": {},
   "source": [
    "## Create OpenAI Agent with Web Search Capability\n",
    "\n",
    "Now we'll implement a function to create an OpenAI agent with web search capabilities."
   ]
  },
  {
   "cell_type": "code",
   "execution_count": null,
   "id": "f34761fa",
   "metadata": {},
   "outputs": [],
   "source": [
    "def create_openai_response_with_web_search(query):\n",
    "    \"\"\"\n",
    "    Create an OpenAI response with web search capability\n",
    "    \n",
    "    Args:\n",
    "        query (str): The user's query\n",
    "        \n",
    "    Returns:\n",
    "        str: The model's response content\n",
    "    \"\"\"\n",
    "    from openai import OpenAI\n",
    "    \n",
    "    # Initialize the client\n",
    "    client = OpenAI(api_key=OPENAI_API_KEY)\n",
    "    \n",
    "    # Create the response with web search\n",
    "    completion = client.chat.completions.create(\n",
    "        model=\"gpt-4o-mini-search-preview\",\n",
    "        web_search_options={},\n",
    "        messages=[\n",
    "            {\n",
    "                \"role\": \"user\",\n",
    "                \"content\": query\n",
    "            }\n",
    "        ]\n",
    "    )\n",
    "    \n",
    "    # Return the response content\n",
    "    return completion.choices[0].message.content"
   ]
  },
  {
   "cell_type": "markdown",
   "id": "1bf5f311",
   "metadata": {},
   "source": [
    "## Run the OpenAI Agent\n",
    "\n",
    "Let's test our agent with a sample query that requires web search."
   ]
  },
  {
   "cell_type": "code",
   "execution_count": null,
   "id": "461f2d05",
   "metadata": {},
   "outputs": [],
   "source": [
    "# Sample query\n",
    "query = \"What was a positive news story that happened today?\"\n",
    "\n",
    "try:\n",
    "    # Call the function with the query\n",
    "    response_text = create_openai_response_with_web_search(query)\n",
    "    \n",
    "    # Display the response\n",
    "    print(\"\\n\" + \"-\"*50)\n",
    "    display(Markdown(f\"**Query:** {query}\\n\\n**Response:**\\n\\n{response_text}\"))\n",
    "    \n",
    "except Exception as e:\n",
    "    print(f\"❌ Error: {e}\")"
   ]
  },
  {
   "cell_type": "markdown",
   "id": "c9ad6f00",
   "metadata": {},
   "source": [
    "## Try Another Query\n",
    "\n",
    "Let's try another query to demonstrate the capabilities of the web search tool."
   ]
  },
  {
   "cell_type": "code",
   "execution_count": null,
   "id": "24394edb",
   "metadata": {},
   "outputs": [],
   "source": [
    "# Another sample query\n",
    "query = \"What are the latest developments in renewable energy technology?\"\n",
    "\n",
    "try:\n",
    "    # Call the function with the query\n",
    "    response_text = create_openai_response_with_web_search(query)\n",
    "    \n",
    "    # Display the response\n",
    "    print(\"\\n\" + \"-\"*50)\n",
    "    display(Markdown(f\"**Query:** {query}\\n\\n**Response:**\\n\\n{response_text}\"))\n",
    "    \n",
    "except Exception as e:\n",
    "    print(f\"❌ Error: {e}\")"
   ]
  },
  {
   "cell_type": "markdown",
   "id": "ea09926e",
   "metadata": {},
   "source": [
    "## Conclusion\n",
    "\n",
    "In this notebook, we demonstrated how to:\n",
    "1. Set up an OpenAI client with API key\n",
    "2. Create a function to use the web search tool with OpenAI's API\n",
    "3. Process and display responses from the AI model\n",
    "\n",
    "This implementation allows you to create agents that can access real-time information from the web to answer queries, making them more useful for up-to-date information."
   ]
  }
 ],
 "metadata": {
  "kernelspec": {
   "display_name": "Python 3",
   "language": "python",
   "name": "python3"
  },
  "language_info": {
   "codemirror_mode": {
    "name": "ipython",
    "version": 3
   },
   "file_extension": ".py",
   "mimetype": "text/x-python",
   "name": "python",
   "nbconvert_exporter": "python",
   "pygments_lexer": "ipython3",
   "version": "3.13.2"
  }
 },
 "nbformat": 4,
 "nbformat_minor": 5
}
