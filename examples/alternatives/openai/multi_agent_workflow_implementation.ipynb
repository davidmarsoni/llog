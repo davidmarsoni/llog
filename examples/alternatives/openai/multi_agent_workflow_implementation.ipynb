{
 "cells": [
  {
   "cell_type": "markdown",
   "id": "4da4a811",
   "metadata": {},
   "source": [
    "# Multi-Agent Workflow Implementation with OpenAI\n",
    "\n",
    "This notebook demonstrates how to create a multi-agent workflow system using the OpenAI Agents SDK. We will define multiple agents, each with its own capabilities, and then create a workflow that allows these agents to interact and collaborate to achieve a common goal."
   ]
  },
  {
   "cell_type": "code",
   "execution_count": 26,
   "id": "e3f8b283",
   "metadata": {},
   "outputs": [
    {
     "name": "stdout",
     "output_type": "stream",
     "text": [
      "Requirement already satisfied: openai in c:\\users\\david\\appdata\\local\\programs\\python\\python313\\lib\\site-packages (1.74.0)\n",
      "Requirement already satisfied: openai-agents in c:\\users\\david\\appdata\\local\\programs\\python\\python313\\lib\\site-packages (0.0.10)\n",
      "Requirement already satisfied: python-dotenv in c:\\users\\david\\appdata\\local\\programs\\python\\python313\\lib\\site-packages (1.0.1)\n",
      "Requirement already satisfied: anyio<5,>=3.5.0 in c:\\users\\david\\appdata\\local\\programs\\python\\python313\\lib\\site-packages (from openai) (4.8.0)\n",
      "Requirement already satisfied: distro<2,>=1.7.0 in c:\\users\\david\\appdata\\local\\programs\\python\\python313\\lib\\site-packages (from openai) (1.9.0)\n",
      "Requirement already satisfied: httpx<1,>=0.23.0 in c:\\users\\david\\appdata\\local\\programs\\python\\python313\\lib\\site-packages (from openai) (0.28.1)\n",
      "Requirement already satisfied: jiter<1,>=0.4.0 in c:\\users\\david\\appdata\\local\\programs\\python\\python313\\lib\\site-packages (from openai) (0.9.0)\n",
      "Requirement already satisfied: pydantic<3,>=1.9.0 in c:\\users\\david\\appdata\\local\\programs\\python\\python313\\lib\\site-packages (from openai) (2.10.6)\n",
      "Requirement already satisfied: sniffio in c:\\users\\david\\appdata\\local\\programs\\python\\python313\\lib\\site-packages (from openai) (1.3.1)\n",
      "Requirement already satisfied: tqdm>4 in c:\\users\\david\\appdata\\local\\programs\\python\\python313\\lib\\site-packages (from openai) (4.67.1)\n",
      "Requirement already satisfied: typing-extensions<5,>=4.11 in c:\\users\\david\\appdata\\local\\programs\\python\\python313\\lib\\site-packages (from openai) (4.12.2)\n",
      "Requirement already satisfied: griffe<2,>=1.5.6 in c:\\users\\david\\appdata\\local\\programs\\python\\python313\\lib\\site-packages (from openai-agents) (1.7.2)\n",
      "Requirement already satisfied: mcp<2,>=1.6.0 in c:\\users\\david\\appdata\\local\\programs\\python\\python313\\lib\\site-packages (from openai-agents) (1.6.0)\n",
      "Requirement already satisfied: requests<3,>=2.0 in c:\\users\\david\\appdata\\local\\programs\\python\\python313\\lib\\site-packages (from openai-agents) (2.32.3)\n",
      "Requirement already satisfied: types-requests<3,>=2.0 in c:\\users\\david\\appdata\\local\\programs\\python\\python313\\lib\\site-packages (from openai-agents) (2.32.0.20250328)\n",
      "Requirement already satisfied: idna>=2.8 in c:\\users\\david\\appdata\\local\\programs\\python\\python313\\lib\\site-packages (from anyio<5,>=3.5.0->openai) (3.10)\n",
      "Requirement already satisfied: colorama>=0.4 in c:\\users\\david\\appdata\\roaming\\python\\python313\\site-packages (from griffe<2,>=1.5.6->openai-agents) (0.4.6)\n",
      "Requirement already satisfied: certifi in c:\\users\\david\\appdata\\local\\programs\\python\\python313\\lib\\site-packages (from httpx<1,>=0.23.0->openai) (2025.1.31)\n",
      "Requirement already satisfied: httpcore==1.* in c:\\users\\david\\appdata\\local\\programs\\python\\python313\\lib\\site-packages (from httpx<1,>=0.23.0->openai) (1.0.7)\n",
      "Requirement already satisfied: h11<0.15,>=0.13 in c:\\users\\david\\appdata\\local\\programs\\python\\python313\\lib\\site-packages (from httpcore==1.*->httpx<1,>=0.23.0->openai) (0.14.0)\n",
      "Requirement already satisfied: httpx-sse>=0.4 in c:\\users\\david\\appdata\\local\\programs\\python\\python313\\lib\\site-packages (from mcp<2,>=1.6.0->openai-agents) (0.4.0)\n",
      "Requirement already satisfied: pydantic-settings>=2.5.2 in c:\\users\\david\\appdata\\local\\programs\\python\\python313\\lib\\site-packages (from mcp<2,>=1.6.0->openai-agents) (2.8.1)\n",
      "Requirement already satisfied: sse-starlette>=1.6.1 in c:\\users\\david\\appdata\\local\\programs\\python\\python313\\lib\\site-packages (from mcp<2,>=1.6.0->openai-agents) (2.2.1)\n",
      "Requirement already satisfied: starlette>=0.27 in c:\\users\\david\\appdata\\local\\programs\\python\\python313\\lib\\site-packages (from mcp<2,>=1.6.0->openai-agents) (0.46.2)\n",
      "Requirement already satisfied: uvicorn>=0.23.1 in c:\\users\\david\\appdata\\local\\programs\\python\\python313\\lib\\site-packages (from mcp<2,>=1.6.0->openai-agents) (0.34.1)\n",
      "Requirement already satisfied: annotated-types>=0.6.0 in c:\\users\\david\\appdata\\local\\programs\\python\\python313\\lib\\site-packages (from pydantic<3,>=1.9.0->openai) (0.7.0)\n",
      "Requirement already satisfied: pydantic-core==2.27.2 in c:\\users\\david\\appdata\\local\\programs\\python\\python313\\lib\\site-packages (from pydantic<3,>=1.9.0->openai) (2.27.2)\n",
      "Requirement already satisfied: charset-normalizer<4,>=2 in c:\\users\\david\\appdata\\local\\programs\\python\\python313\\lib\\site-packages (from requests<3,>=2.0->openai-agents) (3.4.1)\n",
      "Requirement already satisfied: urllib3<3,>=1.21.1 in c:\\users\\david\\appdata\\local\\programs\\python\\python313\\lib\\site-packages (from requests<3,>=2.0->openai-agents) (2.3.0)\n",
      "Requirement already satisfied: click>=7.0 in c:\\users\\david\\appdata\\local\\programs\\python\\python313\\lib\\site-packages (from uvicorn>=0.23.1->mcp<2,>=1.6.0->openai-agents) (8.1.8)\n",
      "OpenAI API: ✅ Installed\n",
      "OpenAI Agents: ✅ Installed\n",
      "Python Dotenv: ✅ Installed\n",
      "Logging: ✅ Installed\n",
      "\n",
      "✅ All required packages are installed!\n"
     ]
    }
   ],
   "source": [
    "# Install required packages\n",
    "!pip install openai openai-agents python-dotenv\n",
    "\n",
    "# Verify installations\n",
    "import importlib\n",
    "\n",
    "def check_package(package_name):\n",
    "    try:\n",
    "        importlib.import_module(package_name)\n",
    "        return True\n",
    "    except ImportError:\n",
    "        return False\n",
    "\n",
    "packages = {\n",
    "    \"openai\": \"OpenAI API\",\n",
    "    \"agents\": \"OpenAI Agents\",\n",
    "    \"dotenv\": \"Python Dotenv\",\n",
    "    \"logging\": \"Logging\",\n",
    "}\n",
    "\n",
    "all_installed = True\n",
    "for package, display_name in packages.items():\n",
    "    installed = check_package(package)\n",
    "    print(f\"{display_name}: {'✅ Installed' if installed else '❌ Not installed'}\")\n",
    "    all_installed = all_installed and installed\n",
    "\n",
    "if all_installed:\n",
    "    print(\"\\n✅ All required packages are installed!\")\n",
    "else:\n",
    "    print(\"\\n⚠️ Some packages are missing. Run the installation command again.\")"
   ]
  },
  {
   "cell_type": "markdown",
   "id": "fcd5cf0d",
   "metadata": {},
   "source": [
    "## Environment Setup\n",
    "\n",
    "Load environment variables from the `.env` file. <br>\n",
    "N.b. it will look through the entire project for a valid `.env` file."
   ]
  },
  {
   "cell_type": "code",
   "execution_count": 27,
   "id": "fdd47043",
   "metadata": {},
   "outputs": [
    {
     "name": "stdout",
     "output_type": "stream",
     "text": [
      "✅ API key is set\n"
     ]
    }
   ],
   "source": [
    "import os\n",
    "from dotenv import load_dotenv\n",
    "\n",
    "# Load environment variables from .env file\n",
    "load_dotenv()\n",
    "\n",
    "# Get API key from environment variables\n",
    "OPENAI_API_KEY = os.getenv(\"OPENAI_API_KEY\")\n",
    "\n",
    "# Set environment variables for compatibility with libraries that expect them\n",
    "os.environ[\"OPENAI_API_KEY\"] = OPENAI_API_KEY or \"\"\n",
    "\n",
    "# Verify API key is set\n",
    "if not OPENAI_API_KEY:\n",
    "    print(\"⚠️ Warning: OPENAI_API_KEY is not set in .env file\")\n",
    "else:\n",
    "    print(\"✅ API key is set\")    "
   ]
  },
  {
   "cell_type": "markdown",
   "id": "7b253e9c",
   "metadata": {},
   "source": [
    "## Import Required Libraries\n",
    "\n",
    "First, we'll import the necessary libraries for our multi-agent workflow."
   ]
  },
  {
   "cell_type": "code",
   "execution_count": 28,
   "id": "08251b72",
   "metadata": {},
   "outputs": [
    {
     "name": "stdout",
     "output_type": "stream",
     "text": [
      "✅ API key verified\n"
     ]
    }
   ],
   "source": [
    "import openai\n",
    "import asyncio\n",
    "from IPython.display import Markdown, display\n",
    "\n",
    "# Configure OpenAI API key\n",
    "openai.api_key = OPENAI_API_KEY\n",
    "\n",
    "if not OPENAI_API_KEY:\n",
    "    raise ValueError(\"No OpenAI API key found. Please set OPENAI_API_KEY above.\")\n",
    "\n",
    "print(\"✅ API key verified\")"
   ]
  },
  {
   "cell_type": "markdown",
   "id": "b12fdb50",
   "metadata": {},
   "source": [
    "## Define Web Search Tool\n",
    "\n",
    "Create a web search function tool that our agents can use to access real-time information."
   ]
  },
  {
   "cell_type": "code",
   "execution_count": 29,
   "id": "25dc42ff",
   "metadata": {},
   "outputs": [],
   "source": [
    "from agents import Agent, function_tool\n",
    "\n",
    "@function_tool\n",
    "def web_search(query: str) -> str:\n",
    "    \"\"\"\n",
    "    Perform a web search using OpenAI's web search capable model.\n",
    "    \"\"\"\n",
    "    import os\n",
    "    from dotenv import load_dotenv\n",
    "    load_dotenv()\n",
    "    OPENAI_API_KEY = os.getenv(\"OPENAI_API_KEY\")\n",
    "    \n",
    "    def create_openai_response_with_web_search(query):\n",
    "        \"\"\"\n",
    "        Create an OpenAI response with web search capability\n",
    "        Args:\n",
    "            query (str): The user's query\n",
    "        Returns:\n",
    "            str: The model's response content\n",
    "        \"\"\"\n",
    "        from openai import OpenAI\n",
    "        client = OpenAI(api_key=OPENAI_API_KEY)\n",
    "        completion = client.chat.completions.create(\n",
    "            model=\"gpt-4o-mini-search-preview\",\n",
    "            web_search_options={},\n",
    "            messages=[{\"role\": \"user\", \"content\": query}]\n",
    "        )\n",
    "        return completion.choices[0].message.content\n",
    "    \n",
    "    return create_openai_response_with_web_search(query)"
   ]
  },
  {
   "cell_type": "markdown",
   "id": "56f536c8",
   "metadata": {},
   "source": [
    "## Define Basic Agents\n",
    "\n",
    "Let's create a few specialized agents with different capabilities and roles."
   ]
  },
  {
   "cell_type": "code",
   "execution_count": 30,
   "id": "490d850e",
   "metadata": {},
   "outputs": [],
   "source": [
    "# Define a planning agent\n",
    "plan_agent = Agent(\n",
    "    name=\"Plan Agent\",\n",
    "    model=\"gpt-4.1-nano\",\n",
    "    instructions=\"You have to create a plan to achieve the user's goal. You can use web search to find information.\",\n",
    ")\n",
    "\n",
    "# Define an information gathering agent\n",
    "get_info_agent = Agent(\n",
    "    name=\"Get Info Agent\",\n",
    "    model=\"gpt-4.1-nano\",\n",
    "    instructions=\"You have to get the information needed to achieve the user's goal. You can use web search to find information.\",\n",
    "    tools=[web_search],\n",
    ")\n",
    "\n",
    "# Define language-specific agents\n",
    "spanish_agent = Agent(\n",
    "    name=\"Spanish agent\",\n",
    "    model=\"gpt-4.1-mini\",\n",
    "    instructions=\"You only speak Spanish.\",\n",
    ")\n",
    "\n",
    "english_agent = Agent(\n",
    "    name=\"English agent\",\n",
    "    model=\"gpt-4.1-mini\",\n",
    "    instructions=\"You only speak English\",\n",
    ")\n",
    "\n",
    "# Define a triage agent that can route to language-specific agents\n",
    "triage_agent = Agent(\n",
    "    name=\"Triage agent\",\n",
    "    model=\"gpt-4.1-nano\",\n",
    "    instructions=\"Handoff to the appropriate agent based on the language of the request.\",\n",
    "    handoffs=[spanish_agent, english_agent],\n",
    ")"
   ]
  },
  {
   "cell_type": "markdown",
   "id": "1eeeb2a3",
   "metadata": {},
   "source": [
    "## Helper Function for Asynchronous Code\n",
    "\n",
    "Create a helper function to safely run asynchronous code in Jupyter notebooks."
   ]
  },
  {
   "cell_type": "code",
   "execution_count": 31,
   "id": "a6746211",
   "metadata": {},
   "outputs": [],
   "source": [
    "from agents import Runner, trace\n",
    "\n",
    "# Define a helper function to run async code in Jupyter\n",
    "def run_safely_in_jupyter(async_func):\n",
    "    \"\"\"Helper function to run async code in Jupyter notebooks\"\"\"\n",
    "    try:\n",
    "        # Get the current event loop\n",
    "        loop = asyncio.get_event_loop()\n",
    "        \n",
    "        # Check if the loop is already running\n",
    "        if loop.is_running():\n",
    "            # Use nest_asyncio to patch the running loop\n",
    "            import nest_asyncio\n",
    "            nest_asyncio.apply()\n",
    "            print(\"✅ Applied nest_asyncio patch to allow nested event loops\")\n",
    "    except RuntimeError:\n",
    "        # Create a new event loop if none exists\n",
    "        loop = asyncio.new_event_loop()\n",
    "        asyncio.set_event_loop(loop)\n",
    "        print(\"✅ Created new event loop\")\n",
    "    \n",
    "    # Run the async function in the event loop\n",
    "    return loop.run_until_complete(async_func())"
   ]
  },
  {
   "cell_type": "markdown",
   "id": "ca6f148f",
   "metadata": {},
   "source": [
    "## Example 1: Triage Agent for Language Routing\n",
    "\n",
    "This example demonstrates how a triage agent can route requests to specialized agents based on the language."
   ]
  },
  {
   "cell_type": "code",
   "execution_count": 32,
   "id": "2ac87542",
   "metadata": {},
   "outputs": [
    {
     "name": "stdout",
     "output_type": "stream",
     "text": [
      "✅ Applied nest_asyncio patch to allow nested event loops\n",
      "Triage Agent (English):\n",
      "Final Output: Hello! I'm doing well, thank you. How can I assist you today?\n",
      "--------------------\n",
      "✅ Applied nest_asyncio patch to allow nested event loops\n",
      "Triage Agent (English):\n",
      "Final Output: Hello! I'm doing well, thank you. How can I assist you today?\n",
      "--------------------\n",
      "✅ Applied nest_asyncio patch to allow nested event loops\n",
      "Triage Agent (Spanish):\n",
      "Final Output: ¡Hola! Estoy bien, gracias. ¿Y tú, cómo estás? ¿En qué puedo ayudarte hoy?\n",
      "Triage Agent (Spanish):\n",
      "Final Output: ¡Hola! Estoy bien, gracias. ¿Y tú, cómo estás? ¿En qué puedo ayudarte hoy?\n"
     ]
    }
   ],
   "source": [
    "# Define a thread ID for grouping related traces\n",
    "thread_id = \"my_conversation_1\"\n",
    "\n",
    "# Use trace context manager for better logging and grouping\n",
    "with trace(workflow_name=\"Triage Example\", group_id=thread_id):\n",
    "    # Run the triage agent with an English request\n",
    "    async def run_triage_agent_en():\n",
    "        return await Runner.run(triage_agent, \"Hello, how are you?\")\n",
    "    \n",
    "    # Run the async function safely in Jupyter\n",
    "    result_en = run_safely_in_jupyter(run_triage_agent_en)\n",
    "    \n",
    "    print(\"Triage Agent (English):\")\n",
    "    print(f\"Final Output: {result_en.final_output}\")\n",
    "    print(\"-\" * 20)\n",
    "\n",
    "    # Run the triage agent with a Spanish request\n",
    "    async def run_triage_agent_es():\n",
    "        return await Runner.run(triage_agent, \"¿Hola, cómo estás?\")\n",
    "    \n",
    "    result_es = run_safely_in_jupyter(run_triage_agent_es)\n",
    "    \n",
    "    print(\"Triage Agent (Spanish):\")\n",
    "    print(f\"Final Output: {result_es.final_output}\")"
   ]
  },
  {
   "cell_type": "markdown",
   "id": "6f5d808d",
   "metadata": {},
   "source": [
    "## Example 2: Multi-Agent Research Workflow\n",
    "\n",
    "Create a more complex multi-agent workflow for researching topics with structured data outputs."
   ]
  },
  {
   "cell_type": "code",
   "execution_count": 33,
   "id": "39286161",
   "metadata": {},
   "outputs": [],
   "source": [
    "from pydantic import BaseModel, Field\n",
    "import time\n",
    "\n",
    "# Define output schemas for structured agent responses\n",
    "class PlanOutput(BaseModel):\n",
    "    reasoning: str = Field(description=\"Step-by-step reasoning about how to approach the user's goal\")\n",
    "    plan: str = Field(description=\"A detailed plan with specific steps to achieve the user's goal\")\n",
    "\n",
    "class InfoOutput(BaseModel):\n",
    "    information: str = Field(description=\"The information gathered to help achieve the user's goal\")\n",
    "    sources: str = Field(description=\"Sources of the information, if applicable\")\n",
    "\n",
    "class ResponseOutput(BaseModel):\n",
    "    response: str = Field(description=\"The final formatted response to the user\")\n",
    "\n",
    "# Update agents with structured output types\n",
    "plan_agent.output_type = PlanOutput\n",
    "get_info_agent.output_type = InfoOutput\n",
    "\n",
    "# Create a formatter agent that takes info and creates a final response\n",
    "formatter_agent = Agent(\n",
    "    name=\"Formatter Agent\",\n",
    "    instructions=\"You format the plan and information in a friendly way, adding emojis to make it engaging.\",\n",
    "    output_type=ResponseOutput,\n",
    ")\n",
    "\n",
    "# Create a router agent that orchestrates the workflow\n",
    "router_agent = Agent(\n",
    "    name=\"Router Agent\",\n",
    "    instructions=(\n",
    "        \"You determine the workflow for responding to user queries about complex topics. \"\n",
    "        \"First, create a plan using the plan agent. \"\n",
    "        \"Then, gather detailed information using the info agent. \"\n",
    "        \"Finally, hand off to the formatter agent to create an engaging final response.\"\n",
    "    ),\n",
    "    tools=[\n",
    "        plan_agent.as_tool(\n",
    "            tool_name=\"create_research_plan\",\n",
    "            tool_description=\"Create a detailed plan for researching the user's question\"\n",
    "        ),\n",
    "        get_info_agent.as_tool(\n",
    "            tool_name=\"gather_detailed_information\",\n",
    "            tool_description=\"Gather detailed information to address the user's question\"\n",
    "        )\n",
    "    ],\n",
    "    handoffs=[formatter_agent],\n",
    ")"
   ]
  },
  {
   "cell_type": "markdown",
   "id": "4e23df38",
   "metadata": {},
   "source": [
    "## Run the Multi-Agent Research Workflow\n",
    "\n",
    "Execute a complete research task using our multi-agent workflow system."
   ]
  },
  {
   "cell_type": "code",
   "execution_count": 34,
   "id": "faee5712",
   "metadata": {},
   "outputs": [],
   "source": [
    "# Define workflow constants\n",
    "WORKFLOW_NAME = \"Research Assistant Workflow\"\n",
    "GROUP_ID = \"research_conversation_1\"\n",
    "\n",
    "# Example usage of the multi-agent workflow\n",
    "async def run_multi_agent_workflow():\n",
    "    question = \"What are the latest advancements in quantum computing and how might they impact cybersecurity?\"\n",
    "    \n",
    "    print(f\"🔍 Processing query: {question}\")\n",
    "    print(\"=\" * 80)\n",
    "    \n",
    "    start_time = time.time()\n",
    "    \n",
    "    # Run the router agent with streaming to see intermediate steps\n",
    "    from agents import RunConfig\n",
    "    \n",
    "    # Set up the run configuration\n",
    "    config = RunConfig(\n",
    "        workflow_name=WORKFLOW_NAME,\n",
    "        group_id=GROUP_ID\n",
    "    )\n",
    "    \n",
    "    # Initialize the stream\n",
    "    stream = Runner.run_streamed(\n",
    "        starting_agent=router_agent,\n",
    "        input=question,\n",
    "        run_config=config\n",
    "    )\n",
    "    \n",
    "    # Track seen outputs and the final result\n",
    "    seen_outputs = set()\n",
    "    final_result = None\n",
    "    \n",
    "    # Process all events in a single pass\n",
    "    async for event in stream.stream_events():\n",
    "        # Handle agent start/finish events\n",
    "        if event.type == \"run_step\":\n",
    "            if event.name == \"agent_started\":\n",
    "                print(f\"🏃 Starting `{event.item.agent.name}`\")\n",
    "            elif event.name == \"agent_finished\":\n",
    "                print(f\"✅ `{event.item.agent.name}` completed\")\n",
    "                # Store the final result if this is the final agent\n",
    "                if event.item.agent.name == \"Formatter Agent\" and hasattr(event.item, 'output'):\n",
    "                    final_result = event.item.output\n",
    "        \n",
    "        # Handle tool output events (ensure no duplicates)\n",
    "        elif event.type == \"run_item_stream_event\" and event.name == \"tool_output\":\n",
    "            # Create a hash of the tool output to avoid duplicates\n",
    "            output_str = str(event.item.output)\n",
    "            if output_str not in seen_outputs:\n",
    "                seen_outputs.add(output_str)\n",
    "                print(\"🛠️ Tool output:\")\n",
    "                print(\"-\" * 40)\n",
    "                print(event.item.output)\n",
    "                print(\"-\" * 40)\n",
    "    \n",
    "    # Record the end time and calculate duration\n",
    "    end_time = time.time()\n",
    "    print(\"\\n\" + \"=\" * 80)\n",
    "    print(f\"✨ Total time taken: {end_time - start_time:.2f} seconds\")\n",
    "    \n",
    "    return final_result"
   ]
  },
  {
   "cell_type": "code",
   "execution_count": null,
   "id": "038e0af0",
   "metadata": {},
   "outputs": [
    {
     "name": "stdout",
     "output_type": "stream",
     "text": [
      "\n",
      "📋 Starting Multi-Agent Research Workflow Example:\n",
      "✅ Applied nest_asyncio patch to allow nested event loops\n",
      "🔍 Processing query: What are the latest advancements in quantum computing and how might they impact cybersecurity?\n",
      "================================================================================\n",
      "🛠️ Tool output:\n",
      "----------------------------------------\n",
      "{\"reasoning\":\"To address the user's query, I need to gather the latest information on advancements in quantum computing and understand how these developments could influence cybersecurity. Starting with recent research papers, news articles, and announcements from leading tech companies and research institutions will provide up-to-date insights. After collecting this data, I'll analyze the potential impacts on cybersecurity, considering both vulnerabilities and new security paradigms enabled by quantum technology.\",\"plan\":\"First, perform a web search to find the latest articles, research papers, and news on advancements in quantum computing. Next, identify key breakthroughs and emerging trends in the field. Then, analyze how these advancements could affect cybersecurity, focusing on potential threats like breaking current encryption methods and opportunities for new security techniques. Finally, synthesize this information into a concise summary highlighting the latest developments and their implications.\"}\n",
      "----------------------------------------\n",
      "🛠️ Tool output:\n",
      "----------------------------------------\n",
      "{\"information\":\"In 2023, quantum computing experienced significant advancements in hardware, error correction, and practical applications, fueling progress toward scalable and reliable systems. These developments are impacting cybersecurity by presenting threats to current cryptographic methods—such as RSA and ECC—potentially enabling quantum computers to break these encryptions using algorithms like Shor's. In response, efforts like NIST's development of post-quantum cryptography standards are underway, with new algorithms nearing adoption to secure critical data. Quantum Key Distribution (QKD) and other quantum-based security solutions are emerging as secure communication methods, while industry leaders are proactively upgrading their security protocols to withstand quantum threats. Overall, quantum computing continues to be a double-edged sword, posing challenges to existing security infrastructures but also fostering innovations for more robust, quantum-resistant cybersecurity.\",\"sources\":\"https://securenetworks.cloud/the-role-of-quantum-computing-in-cybersecurity-threats-and-opportunities/?utm_source=openai, https://ft.com/content/f602b685-8226-42b4-9336-e488c63c37bf?utm_source=openai, https://reuters.com/technology/cybersecurity/apple-rolls-out-imessage-upgrade-withstand-decryption-by-quantum-computers-2024-02-21/?utm_source=openai, https://icaew.com/insights/viewpoints-on-the-news/2023/oct-2023/quantum-computing-is-a-cyber-security-gamechanger?utm_source=openai\"}    \n",
      "----------------------------------------\n",
      "\n",
      "================================================================================\n",
      "✨ Total time taken: 30.74 seconds\n",
      "\n",
      "================================================================================\n",
      "✅ Multi-Agent Workflow completed successfully!\n",
      "⚠️ No final response was generated or it doesn't have the expected format\n"
     ]
    }
   ],
   "source": [
    "# Run the multi-agent workflow\n",
    "print(\"\\n📋 Starting Multi-Agent Research Workflow Example:\")\n",
    "final_output = run_safely_in_jupyter(run_multi_agent_workflow)\n",
    "print(\"\\n\" + \"=\" * 80)\n",
    "print(\"✅ Multi-Agent Workflow completed successfully!\")"
   ]
  },
  {
   "cell_type": "markdown",
   "id": "05dba90f",
   "metadata": {},
   "source": [
    "## Conclusion\n",
    "\n",
    "In this notebook, we demonstrated:\n",
    "\n",
    "1. Creating specialized agents with different roles and capabilities\n",
    "2. Building a triage system for routing requests based on language\n",
    "3. Designing a complex research workflow with multiple agents\n",
    "4. Using structured data schemas for agent outputs\n",
    "\n",
    "The OpenAI Agents SDK provides a powerful framework for building multi-agent systems that can collaborate to solve complex tasks by delegating subtasks to specialized agents and coordinating their activities.\n",
    "\n",
    "However due to it relatively new nature, it is hard to find real-world examples of its usage. The documentation is okay but lacking in examples."
   ]
  }
 ],
 "metadata": {
  "kernelspec": {
   "display_name": "Python 3",
   "language": "python",
   "name": "python3"
  },
  "language_info": {
   "codemirror_mode": {
    "name": "ipython",
    "version": 3
   },
   "file_extension": ".py",
   "mimetype": "text/x-python",
   "name": "python",
   "nbconvert_exporter": "python",
   "pygments_lexer": "ipython3",
   "version": "3.13.2"
  }
 },
 "nbformat": 4,
 "nbformat_minor": 5
}
