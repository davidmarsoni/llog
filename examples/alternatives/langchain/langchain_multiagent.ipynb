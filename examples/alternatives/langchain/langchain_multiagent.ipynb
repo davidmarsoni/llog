{
 "cells": [
  {
   "cell_type": "markdown",
   "id": "80a1790f",
   "metadata": {},
   "source": [
    "# LangChain Multi-Agent\n",
    "\n",
    "This notebook demonstrates how to roughly use LangChain to create a multi-agent workflow."
   ]
  },
  {
   "cell_type": "markdown",
   "id": "22a99249",
   "metadata": {},
   "source": [
    "## Setup and Installation\n",
    "\n",
    "First, let's install the required packages and verify the installation:"
   ]
  },
  {
   "cell_type": "code",
   "execution_count": null,
   "id": "f6e7c6c8",
   "metadata": {},
   "outputs": [],
   "source": [
    "# Install required packages\n",
    "!pip install langchain openai python-dotenv langchain_community\n",
    "\n",
    "# Verify installations\n",
    "import importlib\n",
    "\n",
    "def check_package(package_name):\n",
    "    try:\n",
    "        importlib.import_module(package_name)\n",
    "        return True\n",
    "    except ImportError:\n",
    "        return False\n",
    "\n",
    "packages = {\n",
    "    'langchain': 'LangChain',\n",
    "    'openai': 'OpenAI',\n",
    "    'dotenv': 'python-dotenv',\n",
    "    'langchain_community': 'LangChain Community'\n",
    "}\n",
    "\n",
    "all_installed = True\n",
    "for package, display_name in packages.items():\n",
    "    installed = check_package(package)\n",
    "    print(f\"{display_name}: {'✅ Installed' if installed else '❌ Not installed'}\")\n",
    "    all_installed = all_installed and installed\n",
    "\n",
    "if all_installed:\n",
    "    print(\"\\n✅ All required packages are installed!\")\n",
    "else:\n",
    "    print(\"\\n⚠️ Some packages are missing. Run the installation command again.\")"
   ]
  },
  {
   "cell_type": "markdown",
   "id": "a809b8ae",
   "metadata": {},
   "source": [
    "## Environment Setup\n",
    "\n",
    "Load environment variables from the `.env` file. <br>\n",
    "N.b. it will look through the entire project for a valid `.env` file."
   ]
  },
  {
   "cell_type": "code",
   "execution_count": null,
   "id": "c7224d00",
   "metadata": {},
   "outputs": [],
   "source": [
    "import os\n",
    "from dotenv import load_dotenv\n",
    "\n",
    "# Load environment variables from .env file\n",
    "load_dotenv()\n",
    "\n",
    "# Get API keys from environment variables\n",
    "OPENAI_API_KEY = os.getenv(\"OPENAI_API_KEY\")\n",
    "\n",
    "\n",
    "# Set environment variables for compatibility with libraries that expect them\n",
    "os.environ[\"OPENAI_API_KEY\"] = OPENAI_API_KEY or \"\"\n",
    "\n",
    "# Verify API keys are set\n",
    "if not OPENAI_API_KEY:\n",
    "    print(\"⚠️ Warning: OPENAI_API_KEY is not set in .env file\")\n",
    "else:\n",
    "    print(\"✅ API keys are set\")"
   ]
  },
  {
   "cell_type": "markdown",
   "metadata": {},
   "source": [
    "## Purpose\n",
    "As your functionalities get longer and gain complexity, you will likely need to create multiple agents and as such use an agentic workflow.\n",
    "\n",
    "We shall hence create multiple agents for this example, including:\n",
    "\n",
    "- Writer Agent – Creates content (e.g., blog post).\n",
    "- Editor Agent – Reviews and improves clarity, grammar, and tone.\n",
    "- Summarizer Agent – Turns the final output into bullet points or TL;DR.\n",
    "\n",
    "Each of these agent will be provided with their own example tools."
   ]
  },
  {
   "cell_type": "markdown",
   "id": "8be03621",
   "metadata": {},
   "source": [
    "## Define Tools"
   ]
  },
  {
   "cell_type": "code",
   "execution_count": null,
   "metadata": {},
   "outputs": [],
   "source": [
    "from langchain.agents import Tool, initialize_agent, AgentType\n",
    "from langchain.chat_models import ChatOpenAI\n",
    "\n",
    "# Initialize the language model\n",
    "llm = ChatOpenAI(model=\"gpt-4o-mini\")\n",
    "\n",
    "# --- Tools for Writer ---\n",
    "writer_tools = [\n",
    "    Tool(\n",
    "        name=\"Write Blog\",\n",
    "        func=lambda topic: llm.invoke(f\"Write a detailed and engaging blog post about: {topic}\"),\n",
    "        description=\"Writes a blog post on a given topic.\"\n",
    "    )\n",
    "]\n",
    "\n",
    "# --- Tools for Editor ---\n",
    "editor_tools = [\n",
    "    Tool(\n",
    "        name=\"Edit Text\",\n",
    "        func=lambda text: llm.invoke(f\"Improve this text for grammar, clarity, and tone:\\n\\n{text}\"),\n",
    "        description=\"Improves grammar and clarity of a text.\"\n",
    "    )\n",
    "]\n",
    "\n",
    "# --- Tools for Summarizer ---\n",
    "summarizer_tools = [\n",
    "    Tool(\n",
    "        name=\"Summarize Text\",\n",
    "        func=lambda text: llm.invoke(f\"Summarize this in 5 bullet points:\\n\\n{text}\"),\n",
    "        description=\"Summarizes text into bullet points.\"\n",
    "    )\n",
    "]\n"
   ]
  },
  {
   "cell_type": "markdown",
   "metadata": {},
   "source": [
    "## Create each Agents"
   ]
  },
  {
   "cell_type": "code",
   "execution_count": null,
   "metadata": {},
   "outputs": [],
   "source": [
    "# Writer Agent\n",
    "writer_agent = initialize_agent(\n",
    "    tools=writer_tools,\n",
    "    llm=llm,\n",
    "    agent=AgentType.ZERO_SHOT_REACT_DESCRIPTION,\n",
    "    verbose=True\n",
    ")\n",
    "\n",
    "# Editor Agent\n",
    "editor_agent = initialize_agent(\n",
    "    tools=editor_tools,\n",
    "    llm=llm,\n",
    "    agent=AgentType.ZERO_SHOT_REACT_DESCRIPTION,\n",
    "    verbose=True\n",
    ")\n",
    "\n",
    "# Summarizer Agent (optional)\n",
    "summarizer_agent = initialize_agent(\n",
    "    tools=summarizer_tools,\n",
    "    llm=llm,\n",
    "    agent=AgentType.ZERO_SHOT_REACT_DESCRIPTION,\n",
    "    verbose=True\n",
    ")\n"
   ]
  },
  {
   "cell_type": "markdown",
   "metadata": {},
   "source": [
    "## Create a rudimentary Workflow"
   ]
  },
  {
   "cell_type": "code",
   "execution_count": null,
   "metadata": {},
   "outputs": [],
   "source": [
    "# Step 1: Writer creates the content\n",
    "topic = \"How to make an apple pie\"\n",
    "raw_draft = writer_agent.run(f\"Write a blog post about: {topic}\")\n",
    "\n",
    "# Step 2: Editor refines the content\n",
    "edited_draft = editor_agent.run(f\"Please improve the following blog post:\\n\\n{raw_draft}\")\n",
    "\n",
    "# Step 3: Summarizer makes a TL;DR (optional)\n",
    "summary = summarizer_agent.run(f\"Summarize this post:\\n\\n{edited_draft}\")\n",
    "\n",
    "# Final Output\n",
    "print(\"📝 Raw Draft:\\n\", raw_draft)\n",
    "print(\"✍️ Final Post:\\n\", edited_draft)\n",
    "print(\"\\n🧾 TL;DR:\\n\", summary)\n"
   ]
  },
  {
   "cell_type": "markdown",
   "id": "8f9d6a86",
   "metadata": {},
   "source": [
    "## What's next ?\n",
    "While this solution to use Multi-Agent is possible, we strongly encourages you to use LangChainGraph to create Workflows. This example being simply a text of the possibilities provided by LangChain."
   ]
  }
 ],
 "metadata": {
  "kernelspec": {
   "display_name": "venv",
   "language": "python",
   "name": "python3"
  },
  "language_info": {
   "codemirror_mode": {
    "name": "ipython",
    "version": 3
   },
   "file_extension": ".py",
   "mimetype": "text/x-python",
   "name": "python",
   "nbconvert_exporter": "python",
   "pygments_lexer": "ipython3",
   "version": "3.12.0"
  }
 },
 "nbformat": 4,
 "nbformat_minor": 5
}
